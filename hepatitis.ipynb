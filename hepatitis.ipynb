{
  "nbformat": 4,
  "nbformat_minor": 0,
  "metadata": {
    "colab": {
      "name": "hepatitis.ipynb",
      "provenance": [],
      "authorship_tag": "ABX9TyNuFvWm9FzZKDWpZlHmmmDJ",
      "include_colab_link": true
    },
    "kernelspec": {
      "name": "python3",
      "display_name": "Python 3"
    },
    "language_info": {
      "name": "python"
    }
  },
  "cells": [
    {
      "cell_type": "markdown",
      "metadata": {
        "id": "view-in-github",
        "colab_type": "text"
      },
      "source": [
        "<a href=\"https://colab.research.google.com/github/jailcomfranssa/Topico-especial-Proj.Final/blob/main/hepatitis.ipynb\" target=\"_parent\"><img src=\"https://colab.research.google.com/assets/colab-badge.svg\" alt=\"Open In Colab\"/></a>"
      ]
    },
    {
      "cell_type": "code",
      "metadata": {
        "id": "GOmb_-4-JvXX"
      },
      "source": [
        "from sklearn import metrics\n",
        "import pandas as pd\n",
        "from sklearn.neural_network import MLPClassifier\n",
        "from sklearn.neighbors import KNeighborsClassifier\n",
        "import numpy as np\n",
        "from sklearn import tree\n",
        "from sklearn.model_selection import train_test_split\n",
        "import matplotlib.pyplot as plt\n",
        "from sklearn.cluster import KMeans\n",
        "from collections import Counter\n",
        "from sklearn import metrics\n",
        "\n",
        "url = \"https://raw.githubusercontent.com/jailcomfranssa/Projeto--Arvores-de-decisao-kNN./master/hepatitis.data\"\n",
        " \n",
        "# Carregar base de dados\n",
        "dataset = pd.read_csv(url, header=None)\n",
        " \n",
        "columns = len(dataset.columns)\n",
        " \n",
        "y = dataset[0] # extrai a primeira coluna, que é o label\n",
        "X = dataset.loc[:,1:columns - 1]\n",
        "# print(X)\n",
        "# print(columns)\n",
        "# Transforma para Array NumPy\n",
        "X = np.array(X)\n",
        "y = np.array(y)"
      ],
      "execution_count": 6,
      "outputs": []
    },
    {
      "cell_type": "code",
      "metadata": {
        "id": "Z-yVrduLJ1sI"
      },
      "source": [
        "from sklearn.model_selection import StratifiedKFold\n",
        "from collections import Counter\n",
        "folds = 10\n",
        " \n",
        "kf = StratifiedKFold(n_splits = folds)\n",
        " \n",
        "## 10 conjuntos de dados\n",
        "X_train = []\n",
        "y_train = []\n",
        " \n",
        "X_test = []\n",
        "y_test = []\n",
        " \n",
        "for train_index, test_index in kf.split(X,y):\n",
        "  \n",
        "  X_train.append(X[train_index])\n",
        "  X_test.append(X[test_index])\n",
        "  \n",
        "  y_train.append(y[train_index])\n",
        "  y_test.append(y[test_index])"
      ],
      "execution_count": 7,
      "outputs": []
    },
    {
      "cell_type": "code",
      "metadata": {
        "colab": {
          "base_uri": "https://localhost:8080/"
        },
        "id": "QkMkDuuYKTqD",
        "outputId": "6d9e038a-d699-4067-fd2c-39781427053d"
      },
      "source": [
        "wine_results = {\n",
        "    'tree_entropy': [],\n",
        "    'tree_gini': [],\n",
        "    'knn5': [],\n",
        "    'knn10': [],\n",
        "    'mlp_tanh_1': [],\n",
        "    'mlp_tanh_2': [],\n",
        "    'mlp_relu_1': [],\n",
        "    'mlp_relu_2': [],\n",
        "    'kmeans': [],\n",
        "} \n",
        "# Configuração do Kmeans\n",
        "myset = set(y) # Cria um conjunto. Em conjuntos, dados não se repetem. Assim, esse conjunto conterá apenas um valor de cada\n",
        "clusters = len(myset) # Quantos clusters teremos no KMeans\n",
        "\n",
        "for i in range(folds):\n",
        "  # MLP TANH\n",
        "  mlpTanhModel = MLPClassifier(hidden_layer_sizes=(5,10,10), activation='tanh', max_iter=2000, random_state=1)\n",
        "  mlpTanhModel = mlpTanhModel.fit(X_train[i], y_train[i])\n",
        "  mlpTanhResult = mlpTanhModel.predict(X_test[i])\n",
        "  mlpTanhAcc = metrics.accuracy_score(mlpTanhResult, y_test[i])\n",
        "  wine_results['mlp_tanh_1'].append(round(mlpTanhAcc * 100))\n",
        "\n",
        "  # MLP TANH2\n",
        "  mlpTanhModel2 = MLPClassifier(hidden_layer_sizes=(6,12), activation='tanh', max_iter=2000, random_state=1)\n",
        "  mlpTanhModel2 = mlpTanhModel2.fit(X_train[i], y_train[i])\n",
        "  mlpTanhResult2 = mlpTanhModel2.predict(X_test[i])\n",
        "  mlpTanhAcc2 = metrics.accuracy_score(mlpTanhResult2, y_test[i])\n",
        "  wine_results['mlp_tanh_2'].append(round(mlpTanhAcc2 * 100))\n",
        "  \n",
        "  # MLP RELU\n",
        "  mlpReluModel = MLPClassifier(hidden_layer_sizes=(6,12), activation=\"relu\", max_iter=2000, random_state=1)\n",
        "  mlpReluModel = mlpReluModel.fit(X_train[i], y_train[i])\n",
        "  mlpReluResult = mlpReluModel.predict(X_test[i])\n",
        "  mlpReluAcc = metrics.accuracy_score(mlpReluResult, y_test[i])\n",
        "  wine_results['mlp_relu_1'].append(round(mlpReluAcc * 100))\n",
        "\n",
        "  #MLP RELU 2\n",
        "  mlpReluModel2 = MLPClassifier(hidden_layer_sizes=(5,10,10), activation=\"relu\", max_iter=2000, random_state=1)\n",
        "  mlpReluModel2 = mlpReluModel2.fit(X_train[i], y_train[i])\n",
        "  mlpReluResult2 = mlpReluModel2.predict(X_test[i])\n",
        "  mlpReluAcc2 = metrics.accuracy_score(mlpReluResult2, y_test[i])\n",
        "  wine_results['mlp_relu_2'].append(round(mlpReluAcc2 * 100))\n",
        " \n",
        "  # ARVORE ENTROPY\n",
        "  model_ENTROPY = tree.DecisionTreeClassifier(criterion=\"entropy\")\n",
        "  model_ENTROPY = model_ENTROPY.fit(X_train[i], y_train[i])\n",
        "\n",
        "  result = model_ENTROPY.predict(X_test[i])\n",
        "  acc = metrics.accuracy_score(result, y_test[i])\n",
        "\n",
        "  wine_results['tree_entropy'].append(round(acc * 100))\n",
        "\n",
        "  # ARVORE GINI\n",
        "\n",
        "  model_GINI = tree.DecisionTreeClassifier(criterion=\"gini\")\n",
        "  model_GINI = model_GINI.fit(X_train[i], y_train[i])\n",
        "\n",
        "  result = model_GINI.predict(X_test[i])\n",
        "  acc_GINI = metrics.accuracy_score(result, y_test[i])\n",
        "\n",
        "  wine_results['tree_gini'].append(round(acc_GINI * 100))\n",
        "\n",
        "  # KNN 5\n",
        "  n5 = 5\n",
        "\n",
        "  model_KNN5 = KNeighborsClassifier(n_neighbors=n5, metric='euclidean', algorithm='brute')\n",
        "  model_KNN5 = model_KNN5.fit(X_train[i], y_train[i])\n",
        "\n",
        "  result_KNN5 = model_KNN5.predict(X_test[1])\n",
        "  acc_KNN5 = metrics.accuracy_score(result_KNN5, y_test[1])\n",
        "  \n",
        "\n",
        "  wine_results['knn5'].append(round(acc_KNN5 * 100))\n",
        "\n",
        "  # KNN 10\n",
        "  n10 = 10\n",
        "  model_KNN10 = KNeighborsClassifier(n_neighbors=n10, metric='euclidean', algorithm='brute')\n",
        "  model_KNN10 = model_KNN10.fit(X_train[i], y_train[i])\n",
        "\n",
        "  result_KNN10 = model_KNN10.predict(X_test[1])\n",
        "  acc_KNN10 = metrics.accuracy_score(result_KNN10, y_test[1])\n",
        "\n",
        "  wine_results['knn10'].append(round(acc_KNN10 * 100))\n",
        "\n",
        "  # KMEANS\n",
        "  model = KMeans(n_clusters = clusters)\n",
        "  model = model.fit(X_train[i])\n",
        "  # Pegar os labels dos padrões de Treinamento\n",
        "  labels = model.labels_\n",
        "  map_labels = []\n",
        "\n",
        "  for a in range(clusters):\n",
        "    map_labels.append([])\n",
        "\n",
        "  new_y_train = y_train[i]\n",
        "\n",
        "  for b in range(len(y_train[i])):\n",
        "    for c in range(clusters):\n",
        "      if labels[b] == c:\n",
        "        map_labels[c].append(new_y_train[b])\n",
        "  # print(map_labels)\n",
        "  # Criar dicionário com os labells a serem mapeados\n",
        "  mapping = {}\n",
        "\n",
        "  for d in range(clusters):\n",
        "    final = Counter(map_labels[d]) # contar a classe que mais aparece\n",
        "    value = final.most_common(1)[0][0] # retorna a classe com maior frequência\n",
        "    mapping[d] = value\n",
        "  # print(mapping)\n",
        "  result = model.predict(X_test[i])\n",
        "  result = [mapping[j] for j in result]\n",
        "\n",
        "  acc = metrics.accuracy_score(result, y_test[i])\n",
        "  wine_results['kmeans'].append(round(acc * 100))\n",
        "\n",
        "  print(wine_results['mlp_tanh_1'])"
      ],
      "execution_count": 18,
      "outputs": [
        {
          "output_type": "stream",
          "text": [
            "[88]\n",
            "[88, 88]\n",
            "[88, 88, 75]\n",
            "[88, 88, 75, 75]\n",
            "[88, 88, 75, 75, 88]\n",
            "[88, 88, 75, 75, 88, 50]\n",
            "[88, 88, 75, 75, 88, 50, 88]\n",
            "[88, 88, 75, 75, 88, 50, 88, 62]\n",
            "[88, 88, 75, 75, 88, 50, 88, 62, 75]\n",
            "[88, 88, 75, 75, 88, 50, 88, 62, 75, 75]\n"
          ],
          "name": "stdout"
        }
      ]
    },
    {
      "cell_type": "code",
      "metadata": {
        "id": "srEpuOmOKeRp"
      },
      "source": [
        "relatorio = {\n",
        "    'arvore_entropy': round(np.mean(wine_results['tree_entropy'])),\n",
        "    'arvore_gini': round(np.mean(wine_results['tree_gini'])),\n",
        "    'mlp_tanh_1': round(np.mean(wine_results['mlp_tanh_1'])),\n",
        "    'mlp_tanh_2': round(np.mean(wine_results['mlp_tanh_2'])),\n",
        "    'mlp_relu_1': round(np.mean(wine_results['mlp_relu_1'])),\n",
        "    'mlp_relu_2': round(np.mean(wine_results['mlp_relu_2'])),\n",
        "    'knn5': round(np.mean(wine_results['knn5'])),\n",
        "    'knn10': round(np.mean(wine_results['knn10'])),\n",
        "    'kmeans': round(np.mean(wine_results['kmeans']))\n",
        "}\n",
        "\n",
        "\n",
        "print('MLP TANH 1')\n",
        "print(round(np.mean(wine_results['mlp_tanh_1'])))\n",
        "print(\"MLP TANH 2\")\n",
        "print(round(np.mean(wine_results['mlp_tanh_2'])))\n",
        "print('MLP RELU 1')\n",
        "print(round(np.mean(wine_results['mlp_relu_1'])))\n",
        "print(\"MLP RELU 2\")\n",
        "print(round(np.mean(wine_results['mlp_relu_2'])))\n",
        "print(\"ARVORE GINI\")\n",
        "print(round(np.mean(wine_results['tree_gini'])))\n",
        "print(\"ARVORE ENTROPY\")\n",
        "print(round(np.mean(wine_results['tree_entropy'])))\n",
        "print(\"KNN 5\")\n",
        "print(round(np.mean(wine_results['knn5'])))\n",
        "print(\"KNN 10\")\n",
        "print(round(np.mean(wine_results['knn10'])))\n",
        "print(\"KMEANS\")\n",
        "print(round(np.mean(wine_results['kmeans'])))"
      ],
      "execution_count": null,
      "outputs": []
    },
    {
      "cell_type": "code",
      "metadata": {
        "id": "pQ5m7eKfKj13"
      },
      "source": [
        "pd.DataFrame.from_dict(relatorio, orient='index')"
      ],
      "execution_count": null,
      "outputs": []
    },
    {
      "cell_type": "code",
      "metadata": {
        "id": "QumRwNR5K12B"
      },
      "source": [
        "pd.DataFrame.from_dict(wine_results, orient='index')"
      ],
      "execution_count": null,
      "outputs": []
    },
    {
      "cell_type": "code",
      "metadata": {
        "id": "HLC2FYx1K7ij"
      },
      "source": [
        "# Inicio do Kmeans\n",
        "\n",
        "myset = set(y) # Cria um conjunto. Em conjuntos, dados não se repetem. Assim, esse conjunto conterá apenas um valor de cada, ou seja: [1,2,3]\n",
        "clusters = len(myset) # Quantos clusters teremos no KMeans\n",
        "\n",
        "for i in range(folds):\n",
        "  model = KMeans(n_clusters = clusters)\n",
        "  model = model.fit(X_train[i])\n",
        "  # Pegar os labels dos padrões de Treinamento\n",
        "  labels = model.labels_\n",
        "\n",
        "  map_labels = []\n",
        "\n",
        "  for a in range(clusters):\n",
        "    map_labels.append([])\n",
        "\n",
        "  new_y_train = y_train[i]\n",
        "\n",
        "  for b in range(len(y_train[i])):\n",
        "    for c in range(clusters):\n",
        "      if labels[b] == c:\n",
        "        map_labels[c].append(new_y_train[b])\n",
        "  # print(map_labels)\n",
        "  # Criar dicionário com os labells a serem mapeados\n",
        "  mapping = {}\n",
        "\n",
        "  for d in range(clusters):\n",
        "    final = Counter(map_labels[d]) # contar a classe que mais aparece\n",
        "    value = final.most_common(1)[0][0] # retorna a classe com maior frequência\n",
        "    mapping[d] = value\n",
        "  # print(mapping)\n",
        "  result = model.predict(X_test[i])\n",
        "  result = [mapping[j] for j in result]\n",
        "  acc = metrics.accuracy_score(result, y_test[i])\n",
        "  show = round(acc * 100)\n",
        "  print(\"{}%\".format(show))\n",
        "  print(list(result))\n",
        "  print(list(y_test[i]))"
      ],
      "execution_count": null,
      "outputs": []
    },
    {
      "cell_type": "code",
      "metadata": {
        "id": "1PgZcwEtLAaB"
      },
      "source": [
        "import pandas as pd\n",
        "import seaborn as sns # API de visualização\n",
        "\n",
        "url = \"https://raw.githubusercontent.com/jailcomfranssa/Projeto--Arvores-de-decisao-kNN./master/wine.data\"\n",
        "\n",
        "# Carregar base de dados\n",
        "dataset = pd.read_csv(url, header=None)\n",
        "\n",
        "sns.pairplot(data=dataset, vars=(1,2,3,4), hue=0 )"
      ],
      "execution_count": null,
      "outputs": []
    }
  ]
}